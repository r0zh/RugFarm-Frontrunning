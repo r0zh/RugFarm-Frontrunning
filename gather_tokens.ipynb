{
 "cells": [
  {
   "cell_type": "code",
   "execution_count": null,
   "metadata": {},
   "outputs": [],
   "source": [
    "!pip install selenium pandas"
   ]
  },
  {
   "cell_type": "markdown",
   "metadata": {},
   "source": [
    "# WIP (needs to be adapted to each rugfarm)"
   ]
  },
  {
   "cell_type": "code",
   "execution_count": null,
   "metadata": {},
   "outputs": [],
   "source": [
    "import os\n",
    "import time\n",
    "import pandas as pd\n",
    "from selenium import webdriver\n",
    "from selenium.webdriver.chrome.service import Service\n",
    "from selenium.webdriver.chrome.options import Options\n",
    "from io import StringIO\n",
    "import tempfile"
   ]
  },
  {
   "cell_type": "code",
   "execution_count": null,
   "metadata": {},
   "outputs": [],
   "source": [
    "# Get a selenium driver with Cloudflare bypass.\n",
    "# tmpdirname: Temporary directory for downloads.\n",
    "# url: URL to scrape. The url content doesn't really matter. We just need to use one that is in the same domain as the target URL.\n",
    "def get_driver(tmpdirname, url):\n",
    "    options = Options()\n",
    "    options.add_experimental_option(\"excludeSwitches\", [\"enable-automation\"])\n",
    "    options.add_experimental_option(\"useAutomationExtension\", False)\n",
    "    options.add_argument(\"--disable-blink-features=AutomationControlled\")\n",
    "    options.add_experimental_option(\"prefs\", {\n",
    "        \"download.default_directory\": tmpdirname,\n",
    "        \"download.prompt_for_download\": False,\n",
    "    })\n",
    "\n",
    "    service = Service('/usr/bin/chromedriver')  # Adjust path to your chromedriver\n",
    "    driver = webdriver.Chrome(service=service, options=options)\n",
    "    \n",
    "\n",
    "    # Cloudflare bypass\n",
    "    # IMPORTANT. Solve the Cloudflare challenge manually, then open a new tab with the same URL and solve the challenge again.\n",
    "    # After that, the script will run without any issues. (you can close the second tab if you want)\n",
    "    driver.get(url)\n",
    "\n",
    "    # Wait time for the user to solve the challenge manually. Change it if needed.\n",
    "    time.sleep(1)\n",
    "\n",
    "    return driver"
   ]
  },
  {
   "cell_type": "code",
   "execution_count": null,
   "metadata": {},
   "outputs": [],
   "source": [
    "def get_transfers(driver: webdriver.Chrome, tmpdirname, wallet_address, activity_type=None):\n",
    "    url = f\"https://api-v2.solscan.io/v2/account/transfer/export?address={wallet_address}\" + (f\"&activity_type[]={activity_type}\" if activity_type else \"\")\n",
    "\n",
    "    # Get files that are already in the directory\n",
    "    files = os.listdir(tmpdirname)\n",
    "\n",
    "    # clear the window to avoid getting last transfer data\n",
    "    driver.get(\"about:blank\")\n",
    "    driver.get(url)\n",
    "    # Sometimes solscan doesn't respond with a download, but instead a CSV in the body, so we need to check for that\n",
    "    \n",
    "    raw_csv = driver.find_element(\"tag name\", \"body\").get_attribute(\"innerHTML\")\n",
    "        \n",
    "    if(raw_csv == \"\"):\n",
    "        # Get the latest downloaded file comparing with the files before the download and wait for it to be downloaded\n",
    "        new_files = os.listdir(tmpdirname)\n",
    "        downloaded_file = list(set(new_files) - set(files))[0]\n",
    "        \n",
    "        # Wait for the file to be downloaded\n",
    "        while downloaded_file is None:\n",
    "            new_files = os.listdir(tmpdirname)\n",
    "            downloaded_file = list(set(new_files) - set(files))[0]\n",
    "            # time.sleep(0.1)\n",
    "\n",
    "        # Check if file is still being downloaded or corrupted\n",
    "        while True:\n",
    "            try:\n",
    "                # Read the downloaded file\n",
    "                df = pd.read_csv(f\"{tmpdirname}/{downloaded_file}\")\n",
    "                break\n",
    "            except Exception as e:\n",
    "                print(e)\n",
    "                time.sleep(0.1)\n",
    "                continue\n",
    "    else:\n",
    "        df = pd.read_csv(StringIO(raw_csv))\n",
    "\n",
    "    return df"
   ]
  },
  {
   "cell_type": "markdown",
   "metadata": {},
   "source": [
    "## St3"
   ]
  },
  {
   "cell_type": "code",
   "execution_count": null,
   "metadata": {},
   "outputs": [],
   "source": [
    "# Check if wallet is a transfer wallet and returns the previous creator wallet if it is\n",
    "def is_bridge_wallet(wallet_transfers: pd.DataFrame):\n",
    "    if(len(wallet_transfers) > 6):\n",
    "        return False\n",
    "    elif(len(wallet_transfers) > 0 and len(wallet_transfers) <= 6):\n",
    "        return True\n",
    "    else:\n",
    "        raise Exception(\"No transfers found\")\n",
    "\n",
    "def get_created_token(wallet_transfers):\n",
    "    wallet_transfers = wallet_transfers[(wallet_transfers[\"Action\"] == \"MINT\") & (wallet_transfers[\"Amount\"] == 10000000000000000)]\n",
    "    if(len(wallet_transfers) == 0):\n",
    "        return None\n",
    "    return wallet_transfers.iloc[0][\"TokenAddress\"]\n",
    "\n",
    "def get_prev_wallet(wallet_transfers):\n",
    "    return wallet_transfers.iloc[-1][\"From\"]\n",
    "\n",
    "# Name of the farm\n",
    "farm_name = \"st3\"\n",
    "# first wallet to analyze\n",
    "start_wallet = \"9AhFgzwQteTNE4h34x5ZKhHT2Ctpai2kmEBNq8PEXDZp\"\n",
    "# limit of wallets to analyze\n",
    "limit = 100\n",
    "\n",
    "# Create tokens.txt file if it doesn't exist\n",
    "if not os.path.exists(f\"{farm_name}/tokens.txt\"):\n",
    "    with open(f\"{farm_name}/tokens.txt\", \"w\") as f:\n",
    "        pass\n",
    "\n",
    "with tempfile.TemporaryDirectory() as tmpdirname:\n",
    "    driver = get_driver(tmpdirname,f\"https://api-v2.solscan.io/v2/account/transfer/export?address={start_wallet}\")\n",
    "\n",
    "    wallet = start_wallet\n",
    "    while wallet != \"CRBYGyfcRSiwcpUr4qxbVeR7MDNb32mkhxxzFAN7iinS\":\n",
    "        wallet_transfers = get_transfers(driver,tmpdirname,wallet)\n",
    "        if(is_bridge_wallet(wallet_transfers)):\n",
    "            print(f\"Bridge wallet {wallet}\")\n",
    "        else:\n",
    "            print(f\"Creator wallet {wallet}\")\n",
    "            token = get_created_token(wallet_transfers)\n",
    "            if token:\n",
    "                print(f\"Token: {token}\")\n",
    "                print(\"\\n\")\n",
    "                with open(f\"{farm_name}/tokens.txt\", \"a\") as f:\n",
    "                    f.write(f\"{token}\\n\")\n",
    "                \n",
    "            else:\n",
    "                print(\"No token found in creator wallet. Stoping collection.\")\n",
    "                break\n",
    "                \n",
    "            \n",
    "\n",
    "        wallet = get_prev_wallet(wallet_transfers)\n",
    "    \n",
    "    driver.quit()"
   ]
  }
 ],
 "metadata": {
  "kernelspec": {
   "display_name": "finance",
   "language": "python",
   "name": "python3"
  },
  "language_info": {
   "codemirror_mode": {
    "name": "ipython",
    "version": 3
   },
   "file_extension": ".py",
   "mimetype": "text/x-python",
   "name": "python",
   "nbconvert_exporter": "python",
   "pygments_lexer": "ipython3",
   "version": "3.12.7"
  }
 },
 "nbformat": 4,
 "nbformat_minor": 2
}
