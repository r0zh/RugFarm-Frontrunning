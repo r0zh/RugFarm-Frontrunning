{
 "cells": [
  {
   "cell_type": "code",
   "execution_count": null,
   "metadata": {},
   "outputs": [],
   "source": [
    "!pip install pandas"
   ]
  },
  {
   "cell_type": "code",
   "execution_count": 5,
   "metadata": {},
   "outputs": [
    {
     "name": "stdout",
     "output_type": "stream",
     "text": [
      "Filtered CSV saved as 'filtered_transfer_data.csv'\n"
     ]
    }
   ],
   "source": [
    "import pandas as pd\n",
    "\n",
    "# Load the CSV files\n",
    "csv1 = pd.read_csv(\"transfer_data.csv\")\n",
    "csv2 = pd.read_csv(\"transfer_data_to_delte.csv\")\n",
    "\n",
    "# Drop rows from csv1 that match any row in csv2\n",
    "csv1_filtered = pd.merge(csv1, csv2, on=list(csv2.columns), how='left', indicator=True)\n",
    "csv1_filtered = csv1_filtered[csv1_filtered['_merge'] == 'left_only'].drop(columns=['_merge'])\n",
    "\n",
    "# Save the filtered result to a new CSV file\n",
    "csv1_filtered.to_csv(\"filtered_transfer_data.csv\", index=False)\n",
    "\n",
    "print(\"Filtered CSV saved as 'filtered_transfer_data.csv'\")\n"
   ]
  }
 ],
 "metadata": {
  "kernelspec": {
   "display_name": "finance",
   "language": "python",
   "name": "python3"
  },
  "language_info": {
   "codemirror_mode": {
    "name": "ipython",
    "version": 3
   },
   "file_extension": ".py",
   "mimetype": "text/x-python",
   "name": "python",
   "nbconvert_exporter": "python",
   "pygments_lexer": "ipython3",
   "version": "3.12.7"
  }
 },
 "nbformat": 4,
 "nbformat_minor": 2
}
