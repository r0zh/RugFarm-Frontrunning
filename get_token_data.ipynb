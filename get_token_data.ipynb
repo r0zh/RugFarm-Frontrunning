{
 "cells": [
  {
   "cell_type": "code",
   "execution_count": null,
   "metadata": {},
   "outputs": [],
   "source": [
    "!pip install fake-useragent pandas requests pyperclip"
   ]
  },
  {
   "cell_type": "markdown",
   "metadata": {},
   "source": [
    "## Asks for token address"
   ]
  },
  {
   "cell_type": "code",
   "execution_count": 2,
   "metadata": {},
   "outputs": [],
   "source": [
    "token_address = input(\"Enter the token address: \")"
   ]
  },
  {
   "cell_type": "markdown",
   "metadata": {},
   "source": [
    "# Get the transfer data\n",
    "This part will get all the transfers of a token and put it in a csv"
   ]
  },
  {
   "cell_type": "code",
   "execution_count": 3,
   "metadata": {},
   "outputs": [],
   "source": [
    "from fake_useragent import UserAgent\n",
    "import requests"
   ]
  },
  {
   "cell_type": "code",
   "execution_count": null,
   "metadata": {},
   "outputs": [
    {
     "name": "stdout",
     "output_type": "stream",
     "text": [
      "403\n",
      "<!DOCTYPE html><html lang=\"en-US\"><head><title>Just a moment...</title><meta http-equiv=\"Content-Type\" content=\"text/html; charset=UTF-8\"><meta http-equiv=\"X-UA-Compatible\" content=\"IE=Edge\"><meta name=\"robots\" content=\"noindex,nofollow\"><meta name=\"viewport\" content=\"width=device-width,initial-scale=1\"><style>*{box-sizing:border-box;margin:0;padding:0}html{line-height:1.15;-webkit-text-size-adjust:100%;color:#313131;font-family:system-ui,-apple-system,BlinkMacSystemFont,Segoe UI,Roboto,Helvetica Neue,Arial,Noto Sans,sans-serif,Apple Color Emoji,Segoe UI Emoji,Segoe UI Symbol,Noto Color Emoji}body{display:flex;flex-direction:column;height:100vh;min-height:100vh}.main-content{margin:8rem auto;max-width:60rem;padding-left:1.5rem}@media (width <= 720px){.main-content{margin-top:4rem}}.h2{font-size:1.5rem;font-weight:500;line-height:2.25rem}@media (width <= 720px){.h2{font-size:1.25rem;line-height:1.5rem}}#challenge-error-text{background-image:url(data:image/svg+xml;base64,PHN2ZyB4bWxucz0iaHR0cDovL3d3dy53My5vcmcvMjAwMC9zdmciIHdpZHRoPSIzMiIgaGVpZ2h0PSIzMiIgZmlsbD0ibm9uZSI+PHBhdGggZmlsbD0iI0IyMEYwMyIgZD0iTTE2IDNhMTMgMTMgMCAxIDAgMTMgMTNBMTMuMDE1IDEzLjAxNSAwIDAgMCAxNiAzbTAgMjRhMTEgMTEgMCAxIDEgMTEtMTEgMTEuMDEgMTEuMDEgMCAwIDEtMTEgMTEiLz48cGF0aCBmaWxsPSIjQjIwRjAzIiBkPSJNMTcuMDM4IDE4LjYxNUgxNC44N0wxNC41NjMgOS41aDIuNzgzem0tMS4wODQgMS40MjdxLjY2IDAgMS4wNTcuMzg4LjQwNy4zODkuNDA3Ljk5NCAwIC41OTYtLjQwNy45ODQtLjM5Ny4zOS0xLjA1Ny4zODktLjY1IDAtMS4wNTYtLjM4OS0uMzk4LS4zODktLjM5OC0uOTg0IDAtLjU5Ny4zOTgtLjk4NS40MDYtLjM5NyAxLjA1Ni0uMzk3Ii8+PC9zdmc+);background-repeat:no-repeat;background-size:contain;padding-left:34px}@media (prefers-color-scheme:dark){body{background-color:#222;color:#d9d9d9}}</style><meta http-equiv=\"refresh\" content=\"120\"></head><body class=\"no-js\"><div class=\"main-wrapper\" role=\"main\"><div class=\"main-content\"><noscript><div class=\"h2\"><span id=\"challenge-error-text\">Enable JavaScript and cookies to continue</span></div></noscript></div></div><script>(function(){window._cf_chl_opt={cvId: '3',cZone: \"api-v2.solscan.io\",cType: 'non-interactive',cRay: '8f59b5fa8fafcc6b',cH: '5XxiLxJzOJKK0QQz_pGXgQQRhIK7nS21s2BuyUqMBu0-1734803388-1.2.1.1-vC_zehaFS99qRpaXLedN0jcyqo73xB73ik6FA1nyw61XCdhm6n1Rax3E4L8tZvE6',cUPMDTk: \"\\/v2\\/token\\/transfer\\/export?address=DbgoUbcpxXqRXQPBG8fJY8r9WLRM45JLi5CApsWFpump&activity_type%5B%5D=ACTIVITY_SPL_MINT&__cf_chl_tk=_wCj93_v_X8f0SHdSUrTssyytlmrJcZXX3EAEikSers-1734803388-1.0.1.1-RN64oB6uHd7eFcPLjq5.ueOhIhaDU.y8JoPAVb3CZ0E\",cFPWv: 'b',cITimeS: '1734803388',cTTimeMs: '1000',cMTimeMs: '120000',cTplC: 0,cTplV: 5,cTplB: 'cf',cK: \"\",fa: \"\\/v2\\/token\\/transfer\\/export?address=DbgoUbcpxXqRXQPBG8fJY8r9WLRM45JLi5CApsWFpump&activity_type%5B%5D=ACTIVITY_SPL_MINT&__cf_chl_f_tk=_wCj93_v_X8f0SHdSUrTssyytlmrJcZXX3EAEikSers-1734803388-1.0.1.1-RN64oB6uHd7eFcPLjq5.ueOhIhaDU.y8JoPAVb3CZ0E\",md: \"53N.oBUPERIF490bl8l5Vcd.UjPGA5uwrodqY.3OI2g-1734803388-1.2.1.1-2fhE17qGJDmVF07N.oXNnfpL_IFYDn7GpoOT1dIivkiHeOpF4s1qOo44tocFIrkC0jm.J_T_zkToaqk7Xq4YBnv6RfAQkRFMSkgegIyJcJ6Q8l9Z1t5dCa49WDIN9jwYNxHtr4rNOgyV5mfEJSoOgvvVoQ8hpZnjCvGj1Er61cNxngLkOSFvKw3lVZbLcURTnZC8JvayXI0YNpTDyp559g6A59K3dEPdhd127k4rYfaZTPyJCcH0.rz6D.ltUQbJti6i3cECrMPeDwruorLB4DXXf.XajD8h4t2qp0b3ol3iM2hR6iSyLrpDHMV7kvA_Msb2yxoKW3jIyXm25mF.i0RoookmoMqNOxYllCUkYqzookZjpoe8013F6BgM4R8Kyqf4jgVC5LIdH2OPw_s7f5MPxWU8lTPmUEq.2ThHsRaSFUr1YTh5dxScDRsegbNEvo0glvGsf24FW9IcZrfGlTt16RnAy2OBwvsNxdPttjr8fOegCOI648VdZVeIfnwz8vLuNKVHAN1VmeK578e.6_lL2ug6iLYyivtJjCBJwoBduFrP6FNlC88z3V4aQi4Lno64XfRz3EHWc8pH97pTeoXRNBLu1rChPiciBf.5FcbXE8bXYy25L3dsUDcUJVGKmtnwOCLhFgnknK3F4yx_JRLRV1Wus5NuIS6CH.08TFDkjysr81XoGcu5X.5lney4H9PIk3czN30LZpPPz6FYzPgbyTy7MtiOuia72DdSb_CsApqRxGnjIL72mFxImGysL.Dorney31YL3fWnFOCy6D6Pp9pyLICsW0e13IqrG7PKy59lNDYz26apS8pQVyzn1Hm2dciyZZnnzszrW2ozqTsgPEAKClDUk3LlBGUvtAtBMuCRw9XafGg2Byk.YIM2qL_PHrKHX9L8TJ8eVWaHNl2M3qAIqtkhxZerx.c2GEJI4JZN2LjeX2VNHIJMX8mFkJ2Gdcx2UAq1RutS9c3Sk2deigJS6qFX0DJMaA.EP2YX.7hFzfe4raQ5v_gxnJqoORHYr7Y_3JxRVDP2Mtc9vNVvdVMs3G9zSZbl2T1ajQeKhl714wBlmbtCNwL18K_Qv4kozAB05VTb5eHZ7c8BHsIR1hignxSS6zeLoGGFWzzMQRSMyGp6FW3hCmDMv.KPpI5JxbqchWVBnAdnT4oQ8k7ZKmTZzipFv3ApYaJorfFfi9Vd1es4EV3A.XXJ.Vf1MkgpfL4Il5D2O9P7ijqYIKH0VC9E9KD6UYP5mkeewNl9XNMPSxvh1HkoRUt71Yf6egcFMqnMiSfg0_P5C.LSscMOlS9xFrbVD_pVGUQChyjlmY0lOjJwc5MTiMXCrH6Zg2FWBDWQnnm.mEUa0gsBspx75VMxgT8FmuKQQexVOl1MEgHw5_hyD9x8ze14pby2POrAxa0oilncSkvvkvEEC6YNqCVobe2Hw.vem9OUQSGpeS0ZyMnPFm53nOCEr7eIbyyqxnnF1Nhr46WjZGEOZ8abSNrKkt9V8GhuAJc0CGB_ujpCg472GoqUQNj8Wh8sG912daNSLmmc0jep9o4uDKps7vL5YKTu5ZzAkKTpDzpfmZARjUT5KXoNjGeI6HKlM8Cl1sDUsMqVDLNK_xVlth7o8bwRrqm051vas5Ed1JwkNNIItptpgmfBEK5TpXv2lkfRGXdeB7ORn_ood57jI3_otPKsBYFbP4kx9WwdQGZFNgBppSfQxwrsPIA3b_R6li_rLBtnVA9Mm4TdEIcCPk6_NT7wZEdXBQlzjxLj3USKN0.6GbucgxWzY_H6ESqsTiQHWsfqP.aspF5c5egfVpGz.wDD2YavubNizqVqt.SPsLRQH3.PWs3aAwcZ_lbpTxk4Ve8A_hRH9jjs_e7fd9Bsgicq8yR46ZyWwSTXuXCbqVT1bZBwHFrCuefOj1Xs76UoPlb7eOnJWELYdQh3Xa9pdGSM1N6smMBtAiOVMTkSgDN8pHmWYnMt1Mphtkj2Ytd4DfqYlbFrsUqv5MOV0Ewu7cQjSm28ql7SXZ5GmjxUPQPnqu4Z0tprZTMI765kIthJyfpnaueGIzObQNkneWAHe07YB3VjLnOvEE.iKN2MRTrUhGB.qvMCOC13JxQrW2_m.9MsuBxXKJZA2J71hZfSDPNnqkx6rQvtw7Xrb_LZThjbg5EmC2W.IpCwuYpp6EMYOCGqf9_mZymHhyFcDJBv38im69YOWbSWuQXsnmzb8TA0Rv578tZOYVszGwjUvNILbyyIBCku2ptiGfyZbZ87qZEiJelhV6ZynHTZoajPjuxckeGsIHmN.GzyI6pZ\",mdrd: \"zKM0u9Uc3r_o1qHzogZJQAQnajQT_KFbYcF4XtVUujM-1734803388-1.2.1.1-J2D_nWU8o7gvIXElTBXDp57D3gNJh1Jh69fP4UFBs.d4eAy1UA5Jc8by3Xg1kGeDDbdo_457hXnsSVjltcIXiBmUSPYX3IKsnK5pgxGM.fhn3b5n0PsbLtacFRwoVtfxkHTjkA68P2.jXX6fHUC031PFI3tcz.l4PTkGCZ5lj1gJBOCYvt..cD6E.DQZ.fduTgNKMIEeGmPmujxxZdslk.vxTo7I1gqWzU3mtSPYC5IbtCTRV5WlGVMVvvq9hYYZlRjr4mtJtLXrKNloQ4xNu88MdYUqYtaR7i1KcDOmwAs5fl__aRRWRYT4oUluf49chB6udSlAbYzGfchj5rxbh609DuzlTql.oxxxQVDYPZ7pVxJflTc7Pp6Tr237gvEHvIpe5q7xeAI.eSrGv1uZy.9LNRQg4AbAYI3ou4VgGKZ314FSRwvmpO6Vv4cTMQAQd8mqnnuCjyYNc_v8R0HPeIRQSWoglMJCRuOWl7dICcu9rVaGoZ3msQyfao0.fosu4VSjRdsr.a60.B_fGMV.WNBYaMSbDcvciIiBgUUyKksui2OX9dq.VPRYmS2_FuApJYlKulRcUszhPuXmMfEUqTo4eDud3rE7DoKcuea6OVu4hAGL_D8DgcObY5vVaxzVuLPwmShOwisZyZticragdR.Z3ar5M4CHL7vwn4xoDxTQV4z9P.XBs0Z19Dv5p7JIBAX7AFU2Zum6R7pv_KwOpKFBXBm4S_2._Xwa75Pb6LPRZRv1xPt0ZcY6KTT6KYwNZsvb_YoAykwxIF2EfRJn8bYLbdt76tOqrPm2LHQ5neYiNJd03Bt3qIhS7L57tCKD6Hvm_X8PjPRa0e7wxT4CPqmOVVV.wv01uNjE_4Xesyf6m3d6L5N0XekHAgOW442lzeIvTcCX39lfEWC.I.2Re0mPfrWVgM7vtqbfGKNeeaF2y45_eFrBEXcPEvQKgUzd5VzaxyA6bvngrLEYd6zm6ub_cSekC.IGQrIJtIxTHevWFvRG0F3UXd7RYaw3y.EqobaMM_xllGreG4iKoVyo9INvOiolU2RXgakxAapEh11Tp.PR_FkNcwNFbmQLR9bq8CnHuw1zVHlcSxAQBYbNo127SFqY.9txcO9Hwcu17l8TcFZ6xhn6OU9Wr4qWXBPN7N3LFfT7iFxF6j.zoGYvGsMNHReJftbmywY6BgPGDBrkb.BzjzQODQDWmRei_oagbacmJcoyUPx_DWlURIUY8SJ55Mrnrb9Ajb6fIPDeVRDNtAZMKse6Rtq3ZBFHRpKynjgYCBm_RDG9G.XQgLgO2jHX1LlXXuF2SrFEACWozDqe3VgZctOzMERgt8gqjR9ZbHHWT6jD_i8sfMtMRanaN2xUasQnDJ0E2vmV7sbEk2c_6kue9B3XHpkbHcDRpwCT0YGu.OBr2EPpsWSc2yfVB.TgkaypivZsmcax4y.hJFwZeVAUscxs1MQwa0rYBkJrrm3DSvxV_3PmATO0_aNilHZTcfKS5QeiH0.DlPPsJPtBJ0BGvxtFDhQephVeWbBGnWBD7jVZQRPhaPZL8XxJ0K7Ty.8Ji3QDn0gZ0sNk_meHpZ_bRO2PNgxTXqg8_GcdLi_v7Hi5hn0bWGmBfE7wGZUF3Z0y1uVZ0n5k60_SvjDDLUqKCZ6ypRTtDRsDXYQzukWDX0M2cjDcRW5CnMIZHvgN8WiWJAzLekcmj6U0t20lmCkoVBzSzzjA3Tv7eOk2nDcpaIMPNIyNbI4XC_tbByVp_4IEE_IpAEPfvxJYNpM0J1FPEEOu19ClQwwTNCfbrz2RIEQqPVsB8zQ2lUfzCxiHQlvK5hwIsjwjUDZHujMeJ6Lgeh17BFERY3KQ39LOMp2zHCR2kzOHvOx4wsqSRSRu4X8RHgoMDhmTc3pezlJVuBA0CiNMyIVX1nqKYL5zngmLfkQzt8XXG.rgfDn2jXJ8.TA3IugrXKObbrbMu9SyGtgqzHcGCgx7Tv3.DBNfbIZi6WV0hZIXcQWt9XQr2R28gjI48YQd8xSjM8zMe_IulZRHeZZm9Vjx93ViNwIo5is_SADOxdOiHGkDfXV.dHd3uz.Nf3OwxtXZxgXRIyu1hwaN_6RXdAVpTDhDGPWCic7KDTchkA20qrPn2HabCArU8HEOwQ_WCrgzsJd.gZStZWr5FQfH5x.jjbqCNleBg2V9cj5igtpEfram3MOD7bNnLJQBSBWpY.8HOIauElc3_l2IKOIyV5keQCsBQIfkALLGVlZEomNdY_q_Mc.tH9BrKyoaWFj07XxFrIrFUDFKRYWW0likkuXxk_HZ_Ikozy2F0JP3aaOVoUyB4jaJ268iT.vAbAIDDN1tzsoTmYwprq63_TkBidavmYBe4ANn\"};var cpo = document.createElement('script');cpo.src = '/cdn-cgi/challenge-platform/h/b/orchestrate/chl_page/v1?ray=8f59b5fa8fafcc6b';window._cf_chl_opt.cOgUHash = location.hash === '' && location.href.indexOf('#') !== -1 ? '#' : location.hash;window._cf_chl_opt.cOgUQuery = location.search === '' && location.href.slice(0, location.href.length - window._cf_chl_opt.cOgUHash.length).indexOf('?') !== -1 ? '?' : location.search;if (window.history && window.history.replaceState) {var ogU = location.pathname + window._cf_chl_opt.cOgUQuery + window._cf_chl_opt.cOgUHash;history.replaceState(null, null, \"\\/v2\\/token\\/transfer\\/export?address=DbgoUbcpxXqRXQPBG8fJY8r9WLRM45JLi5CApsWFpump&activity_type%5B%5D=ACTIVITY_SPL_MINT&__cf_chl_rt_tk=_wCj93_v_X8f0SHdSUrTssyytlmrJcZXX3EAEikSers-1734803388-1.0.1.1-RN64oB6uHd7eFcPLjq5.ueOhIhaDU.y8JoPAVb3CZ0E\" + window._cf_chl_opt.cOgUHash);cpo.onload = function() {history.replaceState(null, null, ogU);}}document.getElementsByTagName('head')[0].appendChild(cpo);}());</script></body></html>\n"
     ]
    },
    {
     "ename": "IndexError",
     "evalue": "list index out of range",
     "output_type": "error",
     "traceback": [
      "\u001b[0;31m---------------------------------------------------------------------------\u001b[0m",
      "\u001b[0;31mIndexError\u001b[0m                                Traceback (most recent call last)",
      "Cell \u001b[0;32mIn[8], line 12\u001b[0m\n\u001b[1;32m     10\u001b[0m \u001b[38;5;28mprint\u001b[39m(response\u001b[38;5;241m.\u001b[39mstatus_code)\n\u001b[1;32m     11\u001b[0m \u001b[38;5;28mprint\u001b[39m(response\u001b[38;5;241m.\u001b[39mtext)\n\u001b[0;32m---> 12\u001b[0m creation_date \u001b[38;5;241m=\u001b[39m \u001b[38;5;28mint\u001b[39m(\u001b[43mresponse\u001b[49m\u001b[38;5;241;43m.\u001b[39;49m\u001b[43mtext\u001b[49m\u001b[38;5;241;43m.\u001b[39;49m\u001b[43msplit\u001b[49m\u001b[43m(\u001b[49m\u001b[38;5;124;43m\"\u001b[39;49m\u001b[38;5;130;43;01m\\n\u001b[39;49;00m\u001b[38;5;124;43m\"\u001b[39;49m\u001b[43m)\u001b[49m\u001b[43m[\u001b[49m\u001b[38;5;241;43m1\u001b[39;49m\u001b[43m]\u001b[49m\u001b[38;5;241m.\u001b[39msplit(\u001b[38;5;124m\"\u001b[39m\u001b[38;5;124m,\u001b[39m\u001b[38;5;124m\"\u001b[39m)[\u001b[38;5;241m1\u001b[39m])\n\u001b[1;32m     13\u001b[0m \u001b[38;5;28mprint\u001b[39m(\u001b[38;5;124mf\u001b[39m\u001b[38;5;124m\"\u001b[39m\u001b[38;5;124mToken creation date: \u001b[39m\u001b[38;5;132;01m{\u001b[39;00mcreation_date\u001b[38;5;132;01m}\u001b[39;00m\u001b[38;5;124m\"\u001b[39m)\n\u001b[1;32m     16\u001b[0m start_date \u001b[38;5;241m=\u001b[39m creation_date\n",
      "\u001b[0;31mIndexError\u001b[0m: list index out of range"
     ]
    }
   ],
   "source": [
    "import os\n",
    "\n",
    "def get_random_user_agent():\n",
    "    ua = UserAgent()\n",
    "    return ua.random\n",
    "\n",
    "# get creation date\n",
    "url = f\"https://api-v2.solscan.io/v2/token/transfer/export?address={token_address}&activity_type[]=ACTIVITY_SPL_MINT\"\n",
    "response = requests.get(url, headers={\"User-Agent\": get_random_user_agent()})\n",
    "creation_date = int(response.text.split(\"\\n\")[1].split(\",\")[1])\n",
    "print(f\"Token creation date: {creation_date}\")\n",
    "\n",
    "\n",
    "start_date = creation_date\n",
    "end_date = creation_date + 60 * 5\n",
    "\n",
    "url = f\"https://api-v2.solscan.io/v2/token/transfer/export?address={token_address}&block_time[]={start_date}&block_time[]={end_date}\"\n",
    "output_file = \"transfer_data.csv\"\n",
    "\n",
    "headers = {\n",
    "    \"User-Agent\": get_random_user_agent()\n",
    "}\n",
    "try:\n",
    "    response = requests.get(url, headers=headers)\n",
    "    response.raise_for_status()\n",
    "\n",
    "    # repeat request until response content is empty\n",
    "    while response.content:\n",
    "        mode = 'ab' if os.path.exists(output_file) else 'wb'\n",
    "        with open(output_file, mode) as file:\n",
    "            if mode == 'ab':\n",
    "                # Skip the header row if appending\n",
    "                file.write(response.content.split(b'\\n', 1)[1])\n",
    "            else:\n",
    "                file.write(response.content)\n",
    "        \n",
    "        start_date += 60 * 5\n",
    "        end_date += 60 * 5\n",
    "\n",
    "        url = f\"https://api-v2.solscan.io/v2/token/transfer/export?address={token_address}&block_time[]={start_date}&block_time[]={end_date}\"\n",
    "        print(f\"Downloading transactions from {start_date} to {end_date}\")\n",
    "        response = requests.get(url, headers=headers)\n",
    "        print(response.status_code)\n",
    "\n",
    "    print(f\"File downloaded successfully and saved as {output_file}\")\n",
    "except requests.exceptions.RequestException as e:\n",
    "    print(f\"An error occurred: {e}\")"
   ]
  },
  {
   "cell_type": "markdown",
   "metadata": {},
   "source": [
    "# Calculate the date range of the transactions"
   ]
  },
  {
   "cell_type": "code",
   "execution_count": null,
   "metadata": {},
   "outputs": [],
   "source": [
    "import pandas as pd"
   ]
  },
  {
   "cell_type": "code",
   "execution_count": 51,
   "metadata": {},
   "outputs": [
    {
     "name": "stdout",
     "output_type": "stream",
     "text": [
      "Min Time: 1734722030\n",
      "Max Time: 1734778597\n"
     ]
    }
   ],
   "source": [
    "# Load data into a DataFrame\n",
    "df = pd.read_csv('transfer_data.csv')\n",
    "\n",
    "# Extract min and max time values\n",
    "start = df['Time'].min()\n",
    "end = df['Time'].max()\n",
    "\n",
    "\n",
    "print(f\"Min Time: {start}\")\n",
    "print(f\"Max Time: {end}\")"
   ]
  },
  {
   "cell_type": "markdown",
   "metadata": {},
   "source": [
    "# Get the price data using the date range\n",
    "User must open the link and copy the hole raw data. If user copies the same thing twice it doesn't detect the copy"
   ]
  },
  {
   "cell_type": "code",
   "execution_count": null,
   "metadata": {},
   "outputs": [],
   "source": [
    "import pyperclip\n",
    "import time\n",
    "import json\n",
    "\n",
    "def generate_link():\n",
    "    link = f\"https://gmgn.ai/api/v1/token_kline/sol/{token_address}?resolution=1s&from={start}&to={end}\"\n",
    "    print(\"Generated Link:\")\n",
    "    print(link)\n",
    "\n",
    "\n",
    "def wait_for_copy():\n",
    "    last_clipboard_content = pyperclip.paste()  # Get the current clipboard content\n",
    "\n",
    "    print(\"Waiting for a copy action...\")\n",
    "    while True:\n",
    "        time.sleep(0.5)  # Poll every 0.5 seconds\n",
    "        current_clipboard_content = pyperclip.paste()\n",
    "        if current_clipboard_content != last_clipboard_content:\n",
    "            print(\"Copy action detected!\")\n",
    "            return current_clipboard_content\n",
    "\n",
    "generate_link()\n",
    "json_data = wait_for_copy()\n",
    "# segunda opcion\n",
    "# json_data = input(\"Paste the copied JSON data here: \")\n",
    "\n",
    "json_data = json.loads(json_data)\n",
    "\n",
    "data_list = json_data['data']['list']\n",
    "\n",
    "df = pd.DataFrame(data_list)\n",
    "df.rename(columns={\"time\": \"Time\"}, inplace=True)\n",
    "\n",
    "# Change the time column to be the first column\n",
    "cols = df.columns.tolist()\n",
    "cols = cols[-1:] + cols[:-1]\n",
    "df = df[cols]\n",
    "\n",
    "# Remove the volume column\n",
    "df.drop(columns=['volume'], inplace=True)\n",
    "\n",
    "# save the data into price_data.csv\n",
    "df.to_csv('price_data.csv', index=False)"
   ]
  },
  {
   "cell_type": "markdown",
   "metadata": {},
   "source": [
    "# Filter the transfers data (WIP)"
   ]
  },
  {
   "cell_type": "code",
   "execution_count": null,
   "metadata": {},
   "outputs": [],
   "source": [
    "# Load the CSV files\n",
    "csv1 = pd.read_csv(\"transfer_data.csv\")\n",
    "csv2 = pd.read_csv(\"transfer_data_to_delte.csv\")\n",
    "\n",
    "# Drop rows from csv1 that match any row in csv2\n",
    "csv1_filtered = pd.merge(csv1, csv2, on=list(csv2.columns), how='left', indicator=True)\n",
    "csv1_filtered = csv1_filtered[csv1_filtered['_merge'] == 'left_only'].drop(columns=['_merge'])\n",
    "\n",
    "csv1_filtered['Time'] = csv1_filtered['Time'] + 3600\n",
    "\n",
    "# Save the filtered result to a new CSV file\n",
    "csv1_filtered.to_csv(\"filtered_transfer_data.csv\", index=False)\n",
    "\n",
    "print(\"Filtered CSV saved as 'filtered_transfer_data.csv'\")"
   ]
  }
 ],
 "metadata": {
  "kernelspec": {
   "display_name": "finance",
   "language": "python",
   "name": "python3"
  },
  "language_info": {
   "codemirror_mode": {
    "name": "ipython",
    "version": 3
   },
   "file_extension": ".py",
   "mimetype": "text/x-python",
   "name": "python",
   "nbconvert_exporter": "python",
   "pygments_lexer": "ipython3",
   "version": "3.12.7"
  }
 },
 "nbformat": 4,
 "nbformat_minor": 2
}
