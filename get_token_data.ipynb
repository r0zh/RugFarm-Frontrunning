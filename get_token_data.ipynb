{
 "cells": [
  {
   "cell_type": "code",
   "execution_count": null,
   "metadata": {},
   "outputs": [],
   "source": [
    "!pip install fake-useragent pandas requests pyperclip"
   ]
  },
  {
   "cell_type": "markdown",
   "metadata": {},
   "source": [
    "## Asks for token address"
   ]
  },
  {
   "cell_type": "code",
   "execution_count": null,
   "metadata": {},
   "outputs": [],
   "source": [
    "token_address = input(\"Enter the token address: \")"
   ]
  },
  {
   "cell_type": "markdown",
   "metadata": {},
   "source": [
    "# Get the transfer data\n",
    "Need change"
   ]
  },
  {
   "cell_type": "code",
   "execution_count": null,
   "metadata": {},
   "outputs": [],
   "source": [
    "from fake_useragent import UserAgent\n",
    "import requests"
   ]
  },
  {
   "cell_type": "code",
   "execution_count": null,
   "metadata": {},
   "outputs": [],
   "source": [
    "def get_random_user_agent():\n",
    "    ua = UserAgent()\n",
    "    return ua.random\n",
    "\n",
    "def download_csv(url, output_file):\n",
    "    headers = {\n",
    "        \"User-Agent\": get_random_user_agent()\n",
    "    }\n",
    "    try:\n",
    "        response = requests.get(url, headers=headers)\n",
    "        response.raise_for_status()\n",
    "\n",
    "        with open(output_file, 'wb') as file:\n",
    "            file.write(response.content)\n",
    "\n",
    "        print(f\"File downloaded successfully and saved as {output_file}\")\n",
    "    except requests.exceptions.RequestException as e:\n",
    "        print(f\"An error occurred: {e}\")\n",
    "\n",
    "url = f\"https://api-v2.solscan.io/v2/token/transfer/export?address={token_address}\"\n",
    "output_file = \"transfer_data.csv\"\n",
    "\n",
    "download_csv(url, output_file)\n"
   ]
  },
  {
   "cell_type": "markdown",
   "metadata": {},
   "source": [
    "# Calculate the date range of the transactions"
   ]
  },
  {
   "cell_type": "code",
   "execution_count": null,
   "metadata": {},
   "outputs": [],
   "source": [
    "import pandas as pd"
   ]
  },
  {
   "cell_type": "code",
   "execution_count": null,
   "metadata": {},
   "outputs": [],
   "source": [
    "# Load data into a DataFrame\n",
    "df = pd.read_csv('transfer_data.csv')\n",
    "\n",
    "# Extract min and max time values\n",
    "start = df['Time'].min()\n",
    "end = df['Time'].max()\n",
    "\n",
    "\n",
    "print(f\"Min Time: {start}\")\n",
    "print(f\"Max Time: {end}\")"
   ]
  },
  {
   "cell_type": "markdown",
   "metadata": {},
   "source": [
    "# Get the price data using the date range\n",
    "User must open the link and copy the hole raw data. If user copies the same thing twice it doesn't detect the copy"
   ]
  },
  {
   "cell_type": "code",
   "execution_count": null,
   "metadata": {},
   "outputs": [],
   "source": [
    "import pyperclip\n",
    "import time\n",
    "import json\n",
    "\n",
    "def generate_link():\n",
    "    link = f\"https://gmgn.ai/api/v1/token_kline/sol/{token_address}?resolution=1s&from={start}&to={end}\"\n",
    "    print(\"Generated Link:\")\n",
    "    print(link)\n",
    "\n",
    "\n",
    "def wait_for_copy():\n",
    "    last_clipboard_content = pyperclip.paste()  # Get the current clipboard content\n",
    "\n",
    "    print(\"Waiting for a copy action...\")\n",
    "    while True:\n",
    "        time.sleep(0.5)  # Poll every 0.5 seconds\n",
    "        current_clipboard_content = pyperclip.paste()\n",
    "        if current_clipboard_content != last_clipboard_content:\n",
    "            print(\"Copy action detected!\")\n",
    "            return current_clipboard_content\n",
    "\n",
    "generate_link()\n",
    "json_data = wait_for_copy()\n",
    "# segunda opcion\n",
    "# json_data = input(\"Paste the copied JSON data here: \")\n",
    "\n",
    "json_data = json.loads(json_data)\n",
    "\n",
    "data_list = json_data['data']['list']\n",
    "\n",
    "df = pd.DataFrame(data_list)\n",
    "df.rename(columns={\"time\": \"Time\"}, inplace=True)\n",
    "\n",
    "# Change the time column to be the first column\n",
    "cols = df.columns.tolist()\n",
    "cols = cols[-1:] + cols[:-1]\n",
    "df = df[cols]\n",
    "\n",
    "# Remove the volume column\n",
    "df.drop(columns=['volume'], inplace=True)\n",
    "\n",
    "# save the data into price_data.csv\n",
    "df.to_csv('price_data.csv', index=False)"
   ]
  },
  {
   "cell_type": "markdown",
   "metadata": {},
   "source": [
    "# Filter the transfers data (WIP)"
   ]
  },
  {
   "cell_type": "code",
   "execution_count": null,
   "metadata": {},
   "outputs": [],
   "source": [
    "# Load the CSV files\n",
    "csv1 = pd.read_csv(\"transfer_data.csv\")\n",
    "csv2 = pd.read_csv(\"transfer_data_to_delte.csv\")\n",
    "\n",
    "# Drop rows from csv1 that match any row in csv2\n",
    "csv1_filtered = pd.merge(csv1, csv2, on=list(csv2.columns), how='left', indicator=True)\n",
    "csv1_filtered = csv1_filtered[csv1_filtered['_merge'] == 'left_only'].drop(columns=['_merge'])\n",
    "\n",
    "csv1_filtered['Time'] = csv1_filtered['Time'] + 3600\n",
    "\n",
    "# Save the filtered result to a new CSV file\n",
    "csv1_filtered.to_csv(\"filtered_transfer_data.csv\", index=False)\n",
    "\n",
    "print(\"Filtered CSV saved as 'filtered_transfer_data.csv'\")"
   ]
  }
 ],
 "metadata": {
  "kernelspec": {
   "display_name": "finance",
   "language": "python",
   "name": "python3"
  },
  "language_info": {
   "codemirror_mode": {
    "name": "ipython",
    "version": 3
   },
   "file_extension": ".py",
   "mimetype": "text/x-python",
   "name": "python",
   "nbconvert_exporter": "python",
   "pygments_lexer": "ipython3",
   "version": "3.12.7"
  }
 },
 "nbformat": 4,
 "nbformat_minor": 2
}
